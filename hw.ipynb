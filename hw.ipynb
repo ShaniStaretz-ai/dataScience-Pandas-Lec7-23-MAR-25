{
 "cells": [
  {
   "cell_type": "code",
   "execution_count": 128,
   "id": "79fcce6a-1387-49de-9f5b-540b36e8ae06",
   "metadata": {},
   "outputs": [
    {
     "data": {
      "text/markdown": [
       "**<u>count each company:</u>**"
      ],
      "text/plain": [
       "<IPython.core.display.Markdown object>"
      ]
     },
     "metadata": {},
     "output_type": "display_data"
    },
    {
     "data": {
      "text/plain": [
       "Cell Company\n",
       "Pelephone    9\n",
       "Golan        9\n",
       "Cellcom      7\n",
       "Motorola     5\n",
       "Partner      5\n",
       "Name: count, dtype: int64"
      ]
     },
     "metadata": {},
     "output_type": "display_data"
    },
    {
     "data": {
      "text/markdown": [
       "**<u>unique company names:</u>**"
      ],
      "text/plain": [
       "<IPython.core.display.Markdown object>"
      ]
     },
     "metadata": {},
     "output_type": "display_data"
    },
    {
     "data": {
      "text/plain": [
       "['Pelephone', 'Motorola', 'Golan', 'Partner', 'Cellcom']"
      ]
     },
     "metadata": {},
     "output_type": "display_data"
    },
    {
     "data": {
      "text/markdown": [
       "**<u>total count of unique company names:</u>**"
      ],
      "text/plain": [
       "<IPython.core.display.Markdown object>"
      ]
     },
     "metadata": {},
     "output_type": "display_data"
    },
    {
     "data": {
      "text/plain": [
       "5"
      ]
     },
     "metadata": {},
     "output_type": "display_data"
    },
    {
     "data": {
      "text/markdown": [
       "**<u>5 most talkers:</u>**"
      ],
      "text/plain": [
       "<IPython.core.display.Markdown object>"
      ]
     },
     "metadata": {},
     "output_type": "display_data"
    },
    {
     "data": {
      "text/html": [
       "<div>\n",
       "<style scoped>\n",
       "    .dataframe tbody tr th:only-of-type {\n",
       "        vertical-align: middle;\n",
       "    }\n",
       "\n",
       "    .dataframe tbody tr th {\n",
       "        vertical-align: top;\n",
       "    }\n",
       "\n",
       "    .dataframe thead th {\n",
       "        text-align: right;\n",
       "    }\n",
       "</style>\n",
       "<table border=\"1\" class=\"dataframe\">\n",
       "  <thead>\n",
       "    <tr style=\"text-align: right;\">\n",
       "      <th></th>\n",
       "      <th>Customer Name</th>\n",
       "      <th>Phone Number</th>\n",
       "      <th>Talked</th>\n",
       "      <th>Internet</th>\n",
       "      <th>Start Subscription</th>\n",
       "      <th>First Name</th>\n",
       "      <th>Cell Company</th>\n",
       "      <th>User Type</th>\n",
       "    </tr>\n",
       "  </thead>\n",
       "  <tbody>\n",
       "    <tr>\n",
       "      <th>17</th>\n",
       "      <td>Matthew Mills</td>\n",
       "      <td>052-7974129</td>\n",
       "      <td>670</td>\n",
       "      <td>571</td>\n",
       "      <td>08/07/2022</td>\n",
       "      <td>Matthew</td>\n",
       "      <td>Cellcom</td>\n",
       "      <td>talker</td>\n",
       "    </tr>\n",
       "    <tr>\n",
       "      <th>29</th>\n",
       "      <td>Jennifer Zavala</td>\n",
       "      <td>053-8258482</td>\n",
       "      <td>591</td>\n",
       "      <td>202</td>\n",
       "      <td>29/06/2020</td>\n",
       "      <td>Jennifer</td>\n",
       "      <td>Motorola</td>\n",
       "      <td>talker</td>\n",
       "    </tr>\n",
       "    <tr>\n",
       "      <th>12</th>\n",
       "      <td>Sierra Morgan</td>\n",
       "      <td>054-6460585</td>\n",
       "      <td>590</td>\n",
       "      <td>614</td>\n",
       "      <td>17/04/2023</td>\n",
       "      <td>Sierra</td>\n",
       "      <td>Partner</td>\n",
       "      <td>Surfer</td>\n",
       "    </tr>\n",
       "    <tr>\n",
       "      <th>22</th>\n",
       "      <td>Angela Waters</td>\n",
       "      <td>054-5779698</td>\n",
       "      <td>553</td>\n",
       "      <td>201</td>\n",
       "      <td>19/10/2020</td>\n",
       "      <td>Angela</td>\n",
       "      <td>Partner</td>\n",
       "      <td>talker</td>\n",
       "    </tr>\n",
       "    <tr>\n",
       "      <th>11</th>\n",
       "      <td>Aaron Melendez</td>\n",
       "      <td>050-8270179</td>\n",
       "      <td>553</td>\n",
       "      <td>871</td>\n",
       "      <td>29/01/2023</td>\n",
       "      <td>Aaron</td>\n",
       "      <td>Pelephone</td>\n",
       "      <td>Surfer</td>\n",
       "    </tr>\n",
       "  </tbody>\n",
       "</table>\n",
       "</div>"
      ],
      "text/plain": [
       "      Customer Name Phone Number  Talked  Internet Start Subscription  \\\n",
       "17    Matthew Mills  052-7974129     670       571         08/07/2022   \n",
       "29  Jennifer Zavala  053-8258482     591       202         29/06/2020   \n",
       "12    Sierra Morgan  054-6460585     590       614         17/04/2023   \n",
       "22    Angela Waters  054-5779698     553       201         19/10/2020   \n",
       "11   Aaron Melendez  050-8270179     553       871         29/01/2023   \n",
       "\n",
       "   First Name Cell Company User Type  \n",
       "17    Matthew      Cellcom    talker  \n",
       "29   Jennifer     Motorola    talker  \n",
       "12     Sierra      Partner    Surfer  \n",
       "22     Angela      Partner    talker  \n",
       "11      Aaron    Pelephone    Surfer  "
      ]
     },
     "metadata": {},
     "output_type": "display_data"
    },
    {
     "data": {
      "text/markdown": [
       "**<u>3 least talkers:</u>**"
      ],
      "text/plain": [
       "<IPython.core.display.Markdown object>"
      ]
     },
     "metadata": {},
     "output_type": "display_data"
    },
    {
     "data": {
      "text/html": [
       "<div>\n",
       "<style scoped>\n",
       "    .dataframe tbody tr th:only-of-type {\n",
       "        vertical-align: middle;\n",
       "    }\n",
       "\n",
       "    .dataframe tbody tr th {\n",
       "        vertical-align: top;\n",
       "    }\n",
       "\n",
       "    .dataframe thead th {\n",
       "        text-align: right;\n",
       "    }\n",
       "</style>\n",
       "<table border=\"1\" class=\"dataframe\">\n",
       "  <thead>\n",
       "    <tr style=\"text-align: right;\">\n",
       "      <th></th>\n",
       "      <th>Customer Name</th>\n",
       "      <th>Phone Number</th>\n",
       "      <th>Talked</th>\n",
       "      <th>Internet</th>\n",
       "      <th>Start Subscription</th>\n",
       "      <th>First Name</th>\n",
       "      <th>Cell Company</th>\n",
       "      <th>User Type</th>\n",
       "    </tr>\n",
       "  </thead>\n",
       "  <tbody>\n",
       "    <tr>\n",
       "      <th>27</th>\n",
       "      <td>Sarah Martin</td>\n",
       "      <td>051-6973566</td>\n",
       "      <td>24</td>\n",
       "      <td>91</td>\n",
       "      <td>12/04/2023</td>\n",
       "      <td>Sarah</td>\n",
       "      <td>Golan</td>\n",
       "      <td>Surfer</td>\n",
       "    </tr>\n",
       "    <tr>\n",
       "      <th>16</th>\n",
       "      <td>Chad Carter</td>\n",
       "      <td>053-9294578</td>\n",
       "      <td>25</td>\n",
       "      <td>350</td>\n",
       "      <td>06/10/2020</td>\n",
       "      <td>Chad</td>\n",
       "      <td>Motorola</td>\n",
       "      <td>Surfer</td>\n",
       "    </tr>\n",
       "    <tr>\n",
       "      <th>28</th>\n",
       "      <td>Gregory Stevens</td>\n",
       "      <td>052-7378700</td>\n",
       "      <td>30</td>\n",
       "      <td>858</td>\n",
       "      <td>09/08/2022</td>\n",
       "      <td>Gregory</td>\n",
       "      <td>Cellcom</td>\n",
       "      <td>Surfer</td>\n",
       "    </tr>\n",
       "  </tbody>\n",
       "</table>\n",
       "</div>"
      ],
      "text/plain": [
       "      Customer Name Phone Number  Talked  Internet Start Subscription  \\\n",
       "27     Sarah Martin  051-6973566      24        91         12/04/2023   \n",
       "16      Chad Carter  053-9294578      25       350         06/10/2020   \n",
       "28  Gregory Stevens  052-7378700      30       858         09/08/2022   \n",
       "\n",
       "   First Name Cell Company User Type  \n",
       "27      Sarah        Golan    Surfer  \n",
       "16       Chad     Motorola    Surfer  \n",
       "28    Gregory      Cellcom    Surfer  "
      ]
     },
     "metadata": {},
     "output_type": "display_data"
    },
    {
     "data": {
      "text/markdown": [
       "**<u>the duplicated rows:</u>**"
      ],
      "text/plain": [
       "<IPython.core.display.Markdown object>"
      ]
     },
     "metadata": {},
     "output_type": "display_data"
    },
    {
     "data": {
      "text/html": [
       "<div>\n",
       "<style scoped>\n",
       "    .dataframe tbody tr th:only-of-type {\n",
       "        vertical-align: middle;\n",
       "    }\n",
       "\n",
       "    .dataframe tbody tr th {\n",
       "        vertical-align: top;\n",
       "    }\n",
       "\n",
       "    .dataframe thead th {\n",
       "        text-align: right;\n",
       "    }\n",
       "</style>\n",
       "<table border=\"1\" class=\"dataframe\">\n",
       "  <thead>\n",
       "    <tr style=\"text-align: right;\">\n",
       "      <th></th>\n",
       "      <th>Customer Name</th>\n",
       "      <th>Phone Number</th>\n",
       "      <th>Talked</th>\n",
       "      <th>Internet</th>\n",
       "      <th>Start Subscription</th>\n",
       "      <th>First Name</th>\n",
       "      <th>Cell Company</th>\n",
       "      <th>User Type</th>\n",
       "    </tr>\n",
       "  </thead>\n",
       "  <tbody>\n",
       "    <tr>\n",
       "      <th>33</th>\n",
       "      <td>Alison Moore</td>\n",
       "      <td>050-6467180</td>\n",
       "      <td>105</td>\n",
       "      <td>579</td>\n",
       "      <td>29/11/2020</td>\n",
       "      <td>Alison</td>\n",
       "      <td>Pelephone</td>\n",
       "      <td>Surfer</td>\n",
       "    </tr>\n",
       "    <tr>\n",
       "      <th>24</th>\n",
       "      <td>Jessica Pittman</td>\n",
       "      <td>053-9160566</td>\n",
       "      <td>170</td>\n",
       "      <td>899</td>\n",
       "      <td>23/03/2023</td>\n",
       "      <td>Jessica</td>\n",
       "      <td>Motorola</td>\n",
       "      <td>Surfer</td>\n",
       "    </tr>\n",
       "    <tr>\n",
       "      <th>32</th>\n",
       "      <td>Evelyn Elliott</td>\n",
       "      <td>051-6233404</td>\n",
       "      <td>369</td>\n",
       "      <td>705</td>\n",
       "      <td>17/10/2022</td>\n",
       "      <td>Evelyn</td>\n",
       "      <td>Golan</td>\n",
       "      <td>Surfer</td>\n",
       "    </tr>\n",
       "    <tr>\n",
       "      <th>3</th>\n",
       "      <td>John Dean</td>\n",
       "      <td>054-2952436</td>\n",
       "      <td>435</td>\n",
       "      <td>817</td>\n",
       "      <td>06/01/2021</td>\n",
       "      <td>John</td>\n",
       "      <td>Partner</td>\n",
       "      <td>Surfer</td>\n",
       "    </tr>\n",
       "    <tr>\n",
       "      <th>25</th>\n",
       "      <td>Ryan Aguirre</td>\n",
       "      <td>050-4964995</td>\n",
       "      <td>520</td>\n",
       "      <td>372</td>\n",
       "      <td>07/11/2023</td>\n",
       "      <td>Ryan</td>\n",
       "      <td>Pelephone</td>\n",
       "      <td>talker</td>\n",
       "    </tr>\n",
       "  </tbody>\n",
       "</table>\n",
       "</div>"
      ],
      "text/plain": [
       "      Customer Name Phone Number  Talked  Internet Start Subscription  \\\n",
       "33     Alison Moore  050-6467180     105       579         29/11/2020   \n",
       "24  Jessica Pittman  053-9160566     170       899         23/03/2023   \n",
       "32   Evelyn Elliott  051-6233404     369       705         17/10/2022   \n",
       "3         John Dean  054-2952436     435       817         06/01/2021   \n",
       "25     Ryan Aguirre  050-4964995     520       372         07/11/2023   \n",
       "\n",
       "   First Name Cell Company User Type  \n",
       "33     Alison    Pelephone    Surfer  \n",
       "24    Jessica     Motorola    Surfer  \n",
       "32     Evelyn        Golan    Surfer  \n",
       "3        John      Partner    Surfer  \n",
       "25       Ryan    Pelephone    talker  "
      ]
     },
     "metadata": {},
     "output_type": "display_data"
    },
    {
     "data": {
      "text/markdown": [
       "**<u>random 3 subscribers:</u>**"
      ],
      "text/plain": [
       "<IPython.core.display.Markdown object>"
      ]
     },
     "metadata": {},
     "output_type": "display_data"
    },
    {
     "data": {
      "text/html": [
       "<div>\n",
       "<style scoped>\n",
       "    .dataframe tbody tr th:only-of-type {\n",
       "        vertical-align: middle;\n",
       "    }\n",
       "\n",
       "    .dataframe tbody tr th {\n",
       "        vertical-align: top;\n",
       "    }\n",
       "\n",
       "    .dataframe thead th {\n",
       "        text-align: right;\n",
       "    }\n",
       "</style>\n",
       "<table border=\"1\" class=\"dataframe\">\n",
       "  <thead>\n",
       "    <tr style=\"text-align: right;\">\n",
       "      <th></th>\n",
       "      <th>Customer Name</th>\n",
       "      <th>Phone Number</th>\n",
       "    </tr>\n",
       "  </thead>\n",
       "  <tbody>\n",
       "    <tr>\n",
       "      <th>26</th>\n",
       "      <td>Alison Moore</td>\n",
       "      <td>050-6467180</td>\n",
       "    </tr>\n",
       "    <tr>\n",
       "      <th>31</th>\n",
       "      <td>John Dean</td>\n",
       "      <td>054-2952436</td>\n",
       "    </tr>\n",
       "    <tr>\n",
       "      <th>29</th>\n",
       "      <td>Jennifer Zavala</td>\n",
       "      <td>053-8258482</td>\n",
       "    </tr>\n",
       "  </tbody>\n",
       "</table>\n",
       "</div>"
      ],
      "text/plain": [
       "      Customer Name Phone Number\n",
       "26     Alison Moore  050-6467180\n",
       "31        John Dean  054-2952436\n",
       "29  Jennifer Zavala  053-8258482"
      ]
     },
     "metadata": {},
     "output_type": "display_data"
    }
   ],
   "source": [
    "import numpy as np\n",
    "import pandas as pd\n",
    "from IPython.display import Markdown,display\n",
    "def printmd(message,data):\n",
    "    text=\"**<u>\"+message+\"</u>**\"\n",
    "    display(Markdown(text),data)\n",
    "df = pd.read_csv(\"mobile.csv\")\n",
    "df['First Name']=df['Customer Name'].apply(lambda fullName:fullName.split(' ')[0])\n",
    "df['Cell Company']=df['Phone Number'].apply(lambda fullNumber:fullNumber.split('-')[0]).replace({'050':'Pelephone','051':'Golan','052':'Cellcom','053':'Motorola','054':'Partner'})\n",
    "printmd('count each company:',df['Cell Company'].value_counts())\n",
    "printmd('unique company names:',list(df['Cell Company'].unique()))\n",
    "printmd('total count of unique company names:', df['Cell Company'].nunique())\n",
    "df['User Type']= np.vectorize(lambda talked_timer,surf_time:'talker' if talked_timer>surf_time else 'Surfer')(df['Talked'],df['Internet'])\n",
    "df['User Type']= df.apply(lambda row:'talker' if row['Talked']>row['Internet'] else 'Surfer',axis=1)\n",
    "df.sort_values(by='Talked',ascending=True,inplace=True)\n",
    "df.sort_values(by=['Talked','Internet'],ascending=True,inplace=True)\n",
    "printmd(\"5 most talkers:\",df.nlargest(5,columns=['Talked']))\n",
    "printmd(\"3 least talkers:\",df.nsmallest(3,columns=['Talked']))\n",
    "printmd(\"the duplicated rows:\",df[df.duplicated()])\n",
    "df.drop_duplicates(inplace=True)\n",
    "printmd('random 3 subscribers:',df.sample(3)[['Customer Name','Phone Number']])"
   ]
  }
 ],
 "metadata": {
  "kernelspec": {
   "display_name": "Python [conda env:base] *",
   "language": "python",
   "name": "conda-base-py"
  },
  "language_info": {
   "codemirror_mode": {
    "name": "ipython",
    "version": 3
   },
   "file_extension": ".py",
   "mimetype": "text/x-python",
   "name": "python",
   "nbconvert_exporter": "python",
   "pygments_lexer": "ipython3",
   "version": "3.12.7"
  }
 },
 "nbformat": 4,
 "nbformat_minor": 5
}
